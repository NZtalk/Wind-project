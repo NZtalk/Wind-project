{
 "cells": [
  {
   "cell_type": "code",
   "execution_count": null,
   "metadata": {},
   "outputs": [],
   "source": [
    "import pandas as pd\n",
    "from classes.WindAPI import *\n",
    "from sqlalchemy import *\n",
    "from sqlalchemy.orm import Session\n",
    "from create_ref_mariadb import mariadb_connection, windturbines\n",
    "from create_ref_mongodb import mongodb_connection\n",
    "import pandas as pd\n",
    "import matplotlib.pyplot as plt\n",
    "import plotly.express as px\n",
    "import folium\n",
    "import numpy as np\n",
    "from plotly import graph_objects as go\n",
    "from plotly.subplots import make_subplots\n",
    "from datetime import datetime, timedelta\n",
    "import pytz"
   ]
  },
  {
   "cell_type": "code",
   "execution_count": null,
   "metadata": {},
   "outputs": [],
   "source": [
    "def fetch_windturbines_data(engine):\n",
    "    # Récupérer les identifiants et last scada update de turbines depuis la table windturbine dans MariaDB\n",
    "    stmt = select(windturbines.c['windturbine_id','last_scada_update']).filter(windturbines.c.last_scada_update.isnot(None))\n",
    "    turbines = []\n",
    "    with Session(engine) as session:\n",
    "        for row in session.execute(stmt):\n",
    "            turbines.append(row)\n",
    "\n",
    "    # Traiter les données SCADA pour chaque turbine\n",
    "    return turbines\n",
    "\n",
    "def fetch_scada_data(turbineId):\n",
    "    pass\n",
    "\n",
    "client_mongodb = mongodb_connection()\n",
    "engine_mariadb = mariadb_connection()\n",
    "turbines = fetch_windturbines_data(engine_mariadb)\n",
    "\n",
    "\n",
    "lastday_datetime = datetime.now() - timedelta(hours=24)\n",
    "tz = pytz.timezone('Europe/Paris')\n",
    "current_datetime = datetime.now(tz)\n",
    "\n",
    "\n",
    "scada_col = client_mongodb.scada\n",
    "end = datetime(2014, 9, 24, 7, 52, 4)\n",
    "for turbine in turbines:\n",
    "    scada_data = scada_col.find({\n",
    "        \"windturbine_id\": turbine.windturbine_id,\n",
    "        \"log_date\": {'$gte': end}\n",
    "    })\n",
    "    df = pd.DataFrame(list(scada_data))\n",
    "    print(df.head())"
   ]
  }
 ],
 "metadata": {
  "language_info": {
   "name": "python"
  },
  "orig_nbformat": 4
 },
 "nbformat": 4,
 "nbformat_minor": 2
}
