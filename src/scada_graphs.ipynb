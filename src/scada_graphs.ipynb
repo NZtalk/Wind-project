{
 "cells": [
  {
   "cell_type": "code",
   "execution_count": 1,
   "metadata": {},
   "outputs": [
    {
     "ename": "ModuleNotFoundError",
     "evalue": "No module named 'plotly'",
     "output_type": "error",
     "traceback": [
      "\u001b[0;31m---------------------------------------------------------------------------\u001b[0m",
      "\u001b[0;31mModuleNotFoundError\u001b[0m                       Traceback (most recent call last)",
      "Cell \u001b[0;32mIn[1], line 8\u001b[0m\n\u001b[1;32m      6\u001b[0m \u001b[39mfrom\u001b[39;00m \u001b[39mcreate_ref_mongodb\u001b[39;00m \u001b[39mimport\u001b[39;00m mongodb_connection\n\u001b[1;32m      7\u001b[0m \u001b[39mimport\u001b[39;00m \u001b[39mpandas\u001b[39;00m \u001b[39mas\u001b[39;00m \u001b[39mpd\u001b[39;00m\n\u001b[0;32m----> 8\u001b[0m \u001b[39mimport\u001b[39;00m \u001b[39mplotly\u001b[39;00m\u001b[39m.\u001b[39;00m\u001b[39mexpress\u001b[39;00m \u001b[39mas\u001b[39;00m \u001b[39mpx\u001b[39;00m\n\u001b[1;32m      9\u001b[0m \u001b[39mfrom\u001b[39;00m \u001b[39mdatetime\u001b[39;00m \u001b[39mimport\u001b[39;00m datetime, timedelta\n\u001b[1;32m     10\u001b[0m \u001b[39mimport\u001b[39;00m \u001b[39mpytz\u001b[39;00m\n",
      "\u001b[0;31mModuleNotFoundError\u001b[0m: No module named 'plotly'"
     ]
    }
   ],
   "source": [
    "import pandas as pd\n",
    "from classes.WindAPI import *\n",
    "from sqlalchemy import *\n",
    "from sqlalchemy.orm import Session\n",
    "from create_ref_mariadb import mariadb_connection, windturbines\n",
    "from create_ref_mongodb import mongodb_connection\n",
    "import pandas as pd\n",
    "import plotly.express as px\n",
    "from datetime import datetime, timedelta\n",
    "import pytz"
   ]
  },
  {
   "cell_type": "code",
   "execution_count": 2,
   "metadata": {},
   "outputs": [
    {
     "ename": "",
     "evalue": "",
     "output_type": "error",
     "traceback": [
      "\u001b[1;31mThe Kernel crashed while executing code in the the current cell or a previous cell. Please review the code in the cell(s) to identify a possible cause of the failure. Click <a href='https://aka.ms/vscodeJupyterKernelCrash'>here</a> for more info. View Jupyter <a href='command:jupyter.viewOutput'>log</a> for further details."
     ]
    }
   ],
   "source": [
    "def fetch_windturbines_data(engine):\n",
    "    \n",
    "    df = pd.read_sql(\n",
    "    \"\"\"\n",
    "    SELECT wf.windfarm_id, wf.code AS wfCode, wt.windturbine_id, wt.code AS wtCode, wt.last_scada_update\n",
    "    FROM mariadb_itw.windturbines AS wt\n",
    "    INNER JOIN mariadb_itw.windfarms AS wf\n",
    "        ON wf.windfarm_id = wt.windfarm_id\n",
    "    WHERE wt.last_scada_update IS NOT NULL\n",
    "    ORDER BY wf.code ASC, wt.code ASC\n",
    "    ;\n",
    "    \"\"\",\n",
    "        con=engine\n",
    "    )\n",
    "    \n",
    "\n",
    "    return df\n",
    "\n",
    "client_mongodb = mongodb_connection()\n",
    "engine_mariadb = mariadb_connection()\n",
    "turbinesDF = fetch_windturbines_data(engine_mariadb)\n",
    "turbinesDF.head()\n",
    "\n",
    "tz = pytz.timezone('Europe/Paris')\n",
    "current_datetime = datetime.now(tz)\n",
    "lastday_datetime = current_datetime - timedelta(hours=24)\n",
    "\n",
    "scada_col = client_mongodb.scada\n",
    "scada_data = scada_col.find({\n",
    "    \"log_date\": {'$gte': lastday_datetime}\n",
    "}).sort(\"log_date\", 1)\n",
    "\n",
    "df = pd.DataFrame(list(scada_data))\n",
    "\n",
    "for turbine in turbinesDF:\n",
    "    if (len(df[df['wind_turbine'] == turbine.windturbine_id]) > 0):\n",
    "        fig = px.line(df[df['wind_turbine'] == turbine.windturbine_id], x=\"log_date\", y=\"active_power\", title=turbine.wtCode)\n",
    "        fig.show()\n",
    "    "
   ]
  }
 ],
 "metadata": {
  "kernelspec": {
   "display_name": "Python 3",
   "language": "python",
   "name": "python3"
  },
  "language_info": {
   "codemirror_mode": {
    "name": "ipython",
    "version": 3
   },
   "file_extension": ".py",
   "mimetype": "text/x-python",
   "name": "python",
   "nbconvert_exporter": "python",
   "pygments_lexer": "ipython3",
   "version": "3.11.3"
  },
  "orig_nbformat": 4
 },
 "nbformat": 4,
 "nbformat_minor": 2
}
