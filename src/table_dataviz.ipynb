{
 "cells": [
  {
   "cell_type": "code",
   "execution_count": 21,
   "metadata": {},
   "outputs": [],
   "source": [
    "import pandas as pd\n",
    "from sqlalchemy import *\n",
    "from create_ref_mariadb import mariadb_connection\n",
    "from create_ref_mongodb import mongodb_connection\n",
    "import pymongo\n"
   ]
  },
  {
   "cell_type": "code",
   "execution_count": 26,
   "metadata": {},
   "outputs": [
    {
     "data": {
      "text/plain": [
       "datetime.datetime(2023, 6, 7, 9, 41, 31, 637000)"
      ]
     },
     "execution_count": 26,
     "metadata": {},
     "output_type": "execute_result"
    }
   ],
   "source": [
    "#get data from pymongo\n",
    "client = mongodb_connection()\n",
    "\n",
    "test = client.forecast.find({}, {\"extract_date\":1})\n",
    "\n",
    "list(test)[0][\"extract_date\"]\n",
    "\n"
   ]
  },
  {
   "cell_type": "code",
   "execution_count": 1,
   "metadata": {},
   "outputs": [
    {
     "data": {
      "text/plain": [
       "map"
      ]
     },
     "execution_count": 1,
     "metadata": {},
     "output_type": "execute_result"
    }
   ],
   "source": [
    "#get data from ref\n",
    "eng = mariadb_connection()\n",
    "power_df = pd.read_sql(\n",
    "    \"\"\"SELECT p.windturbine_id, windspeed, power, windfarm_id,latitude,longitude\n",
    "        FROM mariadb_itw.windturbines as wt inner join mariadb_itw.powercurves as p\n",
    "        on p.windturbine_id = wt.windturbine_id ;\"\"\",\n",
    "    con=eng\n",
    "    )\n",
    "\n",
    "turbines_df = pd.read_sql(\n",
    "    \"\"\"SELECT windturbine_id, windfarm_id, latitude, longitude\n",
    "        FROM mariadb_itw.windturbines ;\"\"\",\n",
    "    con=eng\n",
    "    )\n"
   ]
  }
 ],
 "metadata": {
  "kernelspec": {
   "display_name": "Python 3",
   "language": "python",
   "name": "python3"
  },
  "language_info": {
   "codemirror_mode": {
    "name": "ipython",
    "version": 3
   },
   "file_extension": ".py",
   "mimetype": "text/x-python",
   "name": "python",
   "nbconvert_exporter": "python",
   "pygments_lexer": "ipython3",
   "version": "3.11.3"
  },
  "orig_nbformat": 4
 },
 "nbformat": 4,
 "nbformat_minor": 2
}
